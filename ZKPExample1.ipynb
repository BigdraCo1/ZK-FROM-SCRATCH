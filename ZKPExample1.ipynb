{
 "cells": [
  {
   "cell_type": "markdown",
   "metadata": {},
   "source": [
    "<details>\n",
    "<summary><h1><b>Requirements</b></h1></summary>\n",
    "\n",
    "1. **A separate verification <span style=\"color:rgb(255, 192, 0)\">setup</span>**  \n",
    "2. **<span style=\"color:rgb(255, 192, 0)\">Challenges</span>**  \n",
    "3. **<span style=\"color:rgb(255, 192, 0)\">Acceptance criteria</span>**\n",
    "\n",
    "</details>\n",
    "\n",
    "---\n",
    "\n",
    "<details>\n",
    "<summary><h2><b>Example</b></h2></summary>\n",
    "\n",
    "## $$\\text{Prove he has }x \\text{ s.t.  } x^{2} + 4x + 7 = 0, \\text{ mod 997(p)}$$\n",
    "## $$\\text{without showing }x \\text{ while hiding }x$$\n",
    "\n",
    "---\n",
    "<summary><h3><b>Set up function</b></h3></summary>\n",
    "\n",
    "## $$V(I) = 300^I$$\n",
    "### $$\\text{300 is a generator for prime field with p  = 997}$$\n",
    "### $$\\therefore \\quad g^{p-1}=1 \\text{ , If }I = p-1,\\text{then }V(I)=1 $$\n",
    "\n",
    "</details>\n",
    "\n",
    "---\n",
    "\n",
    "<style>\n",
    "  .yellow { color: rgb(255, 192, 0); }\n",
    "  .green { color: rgb(0, 176, 80); }\n",
    "  .blue { color: rgb(0, 176, 240); }\n",
    "</style>\n",
    "\n",
    "<blockquote>\n",
    "  <h1><b>\n",
    "    \"The <span class=\"yellow\">original proving statement</span> has been \n",
    "    <span class=\"yellow\">translated into</span> a \n",
    "    <span class=\"green\">new form</span> \n",
    "    <span class=\"blue\">under</span> the updated verification \n",
    "    <span class=\"blue\">setup function</span>\"\n",
    "  </b></h1>\n",
    "</blockquote>\n",
    "\n",
    "---\n",
    "\n"
   ]
  },
  {
   "cell_type": "markdown",
   "metadata": {},
   "source": []
  },
  {
   "cell_type": "markdown",
   "metadata": {},
   "source": []
  }
 ],
 "metadata": {
  "language_info": {
   "name": "python"
  }
 },
 "nbformat": 4,
 "nbformat_minor": 2
}
