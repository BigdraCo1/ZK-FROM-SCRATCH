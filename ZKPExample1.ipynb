{
 "cells": [
  {
   "cell_type": "markdown",
   "metadata": {},
   "source": [
    "# Requirements\n",
    "1. A separate verification setup\n",
    "2. Challenges\n",
    "3. Acceptance criteria\n",
    "---\n",
    "## $$\\text{Prove he has }x \\text{ s.t.  } x^{2} + 4x + 7 = 0, \\text{ mod 997(p)}$$\n",
    "## $$\\text{without showing }x \\text{ while hiding }x$$\n",
    "\n",
    "---\n",
    "## $$\\text{Set up function}$$\n",
    "## $$V(I) = 300^I$$\n",
    "### $$\\text{300 is a generator for prime field with p  = 997}$$\n",
    "### $$\\therefore \\quad g^{p-1}=1 \\text{ , If }I = p-1,\\text{then }V(I)=1 $$"
   ]
  }
 ],
 "metadata": {
  "language_info": {
   "name": "python"
  }
 },
 "nbformat": 4,
 "nbformat_minor": 2
}
