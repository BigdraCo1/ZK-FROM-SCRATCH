{
 "cells": [
  {
   "cell_type": "markdown",
   "metadata": {},
   "source": [
    "> [!faq]- Requirements\n",
    "> 1. **A separate verification <span style=\"color:rgb(255, 192, 0)\">setup</span>**\n",
    "> 2. **<span style=\"color:rgb(255, 192, 0)\">Challenges</span>**\n",
    "> 3. **<span style=\"color:rgb(255, 192, 0)\">Acceptance criteria</span>**\n",
    "---\n",
    "\n",
    ">[!example] \n",
    "## $$\\text{Prove he has }x \\text{ s.t.  } x^{2} + 4x + 7 = 0, \\text{ mod 997(p)}$$\n",
    "## $$\\text{without showing }x \\text{ while hiding }x$$\n",
    "\n",
    "---\n",
    ">[!example] Set up function\n",
    "## $$V(I) = 300^I$$\n",
    "### $$\\text{300 is a generator for prime field with p  = 997}$$\n",
    "### $$\\therefore \\quad g^{p-1}=1 \\text{ , If }I = p-1,\\text{then }V(I)=1 $$\n",
    "---"
   ]
  },
  {
   "cell_type": "markdown",
   "metadata": {},
   "source": []
  }
 ],
 "metadata": {
  "language_info": {
   "name": "python"
  }
 },
 "nbformat": 4,
 "nbformat_minor": 2
}
