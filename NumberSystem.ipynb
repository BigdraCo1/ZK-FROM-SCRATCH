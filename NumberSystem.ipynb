{
 "cells": [
  {
   "cell_type": "markdown",
   "metadata": {},
   "source": [
    "# A New Numbers System\n",
    "_**<span style=\"color:rgb(0, 176, 240)\">why</span> do we need a New Numbers System ??**_\n",
    "- **computational challenge**\n",
    "\t- In computational challenges, precision with decimals is often critical, especially when dealing with large calculations, floating-point arithmetic, or algorithms that require high precision over many iterations (<span style=\"color:rgb(255, 192, 0)\">precision problem</span>)"
   ]
  },
  {
   "cell_type": "code",
   "execution_count": null,
   "metadata": {},
   "outputs": [
    {
     "name": "stdout",
     "output_type": "stream",
     "text": [
      "3.3333333333333335\n"
     ]
    }
   ],
   "source": [
    "print(10/3)\n",
    "# But It should be 3.33333333333333333333333333333333333333333333333333333333333333"
   ]
  },
  {
   "cell_type": "markdown",
   "metadata": {},
   "source": [
    "Then we need A New numbers system that\n",
    "1. It will only use \"whole numbers\". Ex 0, 1, 2, 3, . . . . (<span style=\"color:rgb(255, 192, 0)\">**Only Children can count**</span>)\n",
    "2. Only a limited number of whole numbers. (<span style=\"color:rgb(255, 192, 0)\">**Only Finite set**</span>)\n",
    "3. All arithmetic operations you can do with R should be defined with this new numbers system"
   ]
  }
 ],
 "metadata": {
  "kernelspec": {
   "display_name": "Python 3",
   "language": "python",
   "name": "python3"
  },
  "language_info": {
   "codemirror_mode": {
    "name": "ipython",
    "version": 3
   },
   "file_extension": ".py",
   "mimetype": "text/x-python",
   "name": "python",
   "nbconvert_exporter": "python",
   "pygments_lexer": "ipython3",
   "version": "3.13.0"
  }
 },
 "nbformat": 4,
 "nbformat_minor": 2
}
