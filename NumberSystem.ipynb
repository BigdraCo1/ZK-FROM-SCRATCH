{
 "cells": [
  {
   "cell_type": "markdown",
   "metadata": {},
   "source": [
    "# A New Numbers System\n",
    "_**<span style=\"color:rgb(0, 176, 240)\">why</span> do we need a New Numbers System ??**_\n",
    "- **computational challenge**\n",
    "\t- In computational challenges, precision with decimals is often critical, especially when dealing with large calculations, floating-point arithmetic, or algorithms that require high precision over many iterations (<span style=\"color:rgb(255, 192, 0)\">precision problem</span>)"
   ]
  },
  {
   "cell_type": "code",
   "execution_count": null,
   "metadata": {},
   "outputs": [
    {
     "name": "stdout",
     "output_type": "stream",
     "text": [
      "3.3333333333333335\n"
     ]
    }
   ],
   "source": [
    "print(10/3)\n",
    "# But It should be 3.33333333333333333333333333333333333333333333333333333333333333"
   ]
  },
  {
   "cell_type": "markdown",
   "metadata": {},
   "source": [
    "**Then we need A New numbers system that**\n",
    "1. It will only use \"whole numbers\". Ex 0, 1, 2, 3, . . . . (<span style=\"color:rgb(255, 192, 0)\">**Only Children can count**</span>)\n",
    "2. Only a limited number of whole numbers. (<span style=\"color:rgb(255, 192, 0)\">**Only Finite set**</span>)\n",
    "3. All arithmetic operations you can do with R should be defined with this new numbers system\n",
    "\n",
    "---\n",
    "\n",
    "# A Very Basic Idea\n",
    "let say it's a clock\n",
    "\n",
    "1. Integer set :\n",
    "$$ P = \\{ x \\in \\mathbb{I} \\mid  0 < x \\leq 12 \\} $$\n",
    "\n",
    "2. Finite Number of Elements\n",
    "3. Additional & Subtraction\n",
    "\n",
    "---"
   ]
  },
  {
   "cell_type": "markdown",
   "metadata": {},
   "source": [
    "### Additional"
   ]
  },
  {
   "cell_type": "code",
   "execution_count": 7,
   "metadata": {},
   "outputs": [
    {
     "name": "stdout",
     "output_type": "stream",
     "text": [
      "5 + 8 = 1\n",
      "1 + 4 = 5\n"
     ]
    }
   ],
   "source": [
    "print('5 + 8 =', (5 + 8)%12)\n",
    "print('1 + 4 =', (1+4)%12)"
   ]
  },
  {
   "cell_type": "markdown",
   "metadata": {},
   "source": [
    "### Subtraction"
   ]
  },
  {
   "cell_type": "code",
   "execution_count": 8,
   "metadata": {},
   "outputs": [
    {
     "name": "stdout",
     "output_type": "stream",
     "text": [
      "7 - 5 = 2\n",
      "2 - 11 = 3\n"
     ]
    }
   ],
   "source": [
    "print('7 - 5 =', (7 - 5)%12)\n",
    "print('2 - 11 =', (2 - 11)%12)"
   ]
  },
  {
   "cell_type": "markdown",
   "metadata": {},
   "source": [
    "## The additive identity (zero element)\n",
    "- **Where is 0 :**\n",
    "\n",
    "| Step   | Equation                 |\n",
    "| ------ | -------------------------|\n",
    "| $$1)$$ | $$1+0=1$$                |\n",
    "| $$2)$$ | $$72835 + 0 = 72835$$    |\n",
    "\n",
    "- **In the end :**\n",
    "$$n + 0 = n$$\n",
    "\n",
    "\n",
    "- **In this clock find what's number. It's gonna round to the same place**\n",
    "$$ A \\bmod {12} + 12 \\bmod{12} = A \\bmod {12} $$\n",
    "$$\\therefore \\quad \\text{0 is 12}  \\quad \\text{from additive identify}$$\n",
    "\n",
    "---"
   ]
  },
  {
   "cell_type": "markdown",
   "metadata": {},
   "source": [
    "## The negatives\n",
    "\n",
    "- **Where sum is zero :**\n",
    "\n",
    "| Step   | Equation             |\n",
    "| ------ | -------------------- |\n",
    "| $$1)$$ | $$1+(-1) = 0$$       |\n",
    "| $$2)$$ | $$(1/2)+(-1/2) = 0$$ |\n",
    "- **In the end**\n",
    "$$n + (-n) = 0$$\n",
    "\n",
    "- **The complement number on the clock is the inverse (negative)**\n",
    "\n",
    "| $$Number$$ | $$Inverse$$ |\n",
    "| ---------- | ----------- |\n",
    "| $$1$$      | $$11$$      |\n",
    "| $$2$$      | $$10$$      |\n",
    "| $$3$$      | $$9$$       |\n",
    "| $$4$$      | $$8$$       |\n",
    "| $$5$$      | $$7$$       |\n",
    "| $$6$$      | $$6$$       |\n",
    "\n",
    "**Ex.**\n",
    "$$3-11=3+(-11)=3+1=4$$\n",
    "\n",
    "---"
   ]
  },
  {
   "cell_type": "markdown",
   "metadata": {},
   "source": [
    "# Progress : A New Number System\n",
    "1. Finite Set\n",
    "2. Additional using modulus arithmetic\n",
    "3. The additive identity(zero element)\n",
    "4. The additive inverse(replacing negatives)\n",
    "\n",
    "- **Multiplication**\n",
    "\t- The case of 3\n",
    "\n",
    "| Seq        | Result |\n",
    "| ---------- | ------ |\n",
    "| $$3 *1 $$  | $$3$$  |\n",
    "| $$3 *2 $$  | $$6$$  |\n",
    "| $$3 *3 $$  | $$9$$  |\n",
    "| $$3 *4 $$  | $$0$$  |\n",
    "| $$3 *5 $$  | $$3$$  |\n",
    "| $$3 *6 $$  | $$6$$  |\n",
    "| $$3 *7 $$  | $$9$$  |\n",
    "| $$3 *8 $$  | $$0$$  |\n",
    "| $$3 *9 $$  | $$3$$  |\n",
    "| $$3 *10 $$ | $$6$$  |\n",
    "| $$3 *11 $$ | $$9$$  |\n",
    "| $$3 *12 $$ | $$0$$  |\n",
    "\n",
    " 1. <span style=\"color:rgb(255, 0, 0)\">You can't get to every number (in the set) from a multiple of 3</span>\n",
    " 2. <span style=\"color:rgb(255, 0, 0)\">Cyclic Result Duplicity Paradox</span>\n",
    " 3. <span style=\"color:rgb(255, 0, 0)\">Ridiculous Result Ex. 3 x 4 = 0 because both of it has real forwarding</span> "
   ]
  }
 ],
 "metadata": {
  "kernelspec": {
   "display_name": "Python 3",
   "language": "python",
   "name": "python3"
  },
  "language_info": {
   "codemirror_mode": {
    "name": "ipython",
    "version": 3
   },
   "file_extension": ".py",
   "mimetype": "text/x-python",
   "name": "python",
   "nbconvert_exporter": "python",
   "pygments_lexer": "ipython3",
   "version": "3.13.0"
  }
 },
 "nbformat": 4,
 "nbformat_minor": 2
}
