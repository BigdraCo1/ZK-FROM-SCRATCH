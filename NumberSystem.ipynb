{
 "cells": [
  {
   "cell_type": "markdown",
   "metadata": {},
   "source": [
    "# A New Numbers System\n",
    "_**<span style=\"color:rgb(0, 176, 240)\">why</span> do we need a New Numbers System ??**_\n",
    "- **computational challenge**\n",
    "\t- In computational challenges, precision with decimals is often critical, especially when dealing with large calculations, floating-point arithmetic, or algorithms that require high precision over many iterations (<span style=\"color:rgb(255, 192, 0)\">precision problem</span>)"
   ]
  },
  {
   "cell_type": "code",
   "execution_count": null,
   "metadata": {},
   "outputs": [
    {
     "name": "stdout",
     "output_type": "stream",
     "text": [
      "3.3333333333333335\n"
     ]
    }
   ],
   "source": [
    "print(10/3)\n",
    "# But It should be 3.33333333333333333333333333333333333333333333333333333333333333"
   ]
  },
  {
   "cell_type": "markdown",
   "metadata": {},
   "source": [
    "**Then we need A New numbers system that**\n",
    "1. It will only use \"whole numbers\". Ex 0, 1, 2, 3, . . . . (<span style=\"color:rgb(255, 192, 0)\">**Only Children can count**</span>)\n",
    "2. Only a limited number of whole numbers. (<span style=\"color:rgb(255, 192, 0)\">**Only Finite set**</span>)\n",
    "3. All arithmetic operations you can do with R should be defined with this new numbers system\n",
    "\n",
    "---\n",
    "\n",
    "# A Very Basic Idea\n",
    "let say it's a clock\n",
    "\n",
    "1. Integer set :\n",
    "$$ P = \\{ x \\in \\mathbb{I} \\mid  0 < x \\leq 12 \\} $$\n",
    "\n",
    "2. Finite Number of Elements\n",
    "3. Additional & Subtraction\n",
    "\n",
    "---"
   ]
  },
  {
   "cell_type": "markdown",
   "metadata": {},
   "source": [
    "### Additional"
   ]
  },
  {
   "cell_type": "code",
   "execution_count": 7,
   "metadata": {},
   "outputs": [
    {
     "name": "stdout",
     "output_type": "stream",
     "text": [
      "5 + 8 = 1\n",
      "1 + 4 = 5\n"
     ]
    }
   ],
   "source": [
    "print('5 + 8 =', (5 + 8)%12)\n",
    "print('1 + 4 =', (1+4)%12)"
   ]
  },
  {
   "cell_type": "markdown",
   "metadata": {},
   "source": [
    "### Subtraction"
   ]
  },
  {
   "cell_type": "code",
   "execution_count": 8,
   "metadata": {},
   "outputs": [
    {
     "name": "stdout",
     "output_type": "stream",
     "text": [
      "7 - 5 = 2\n",
      "2 - 11 = 3\n"
     ]
    }
   ],
   "source": [
    "print('7 - 5 =', (7 - 5)%12)\n",
    "print('2 - 11 =', (2 - 11)%12)"
   ]
  },
  {
   "cell_type": "markdown",
   "metadata": {},
   "source": [
    "## The additive identity (zero element)\n",
    "- **Where is 0 :**\n",
    "\n",
    "| Step   | Equation                 |\n",
    "| ------ | -------------------------|\n",
    "| $$1)$$ | $$1+0=1$$                |\n",
    "| $$2)$$ | $$72835 + 0 = 72835$$    |\n",
    "\n",
    "- **In the end :**\n",
    "$$n + 0 = n$$\n",
    "\n",
    "\n",
    "- **In this clock find what's number. It's gonna round to the same place**\n",
    "$$ A \\bmod {12} + 12 \\bmod{12} = A \\bmod {12} $$\n",
    "$$\\therefore \\quad \\text{0 is 12}  \\quad \\text{from additive identify}$$\n",
    "\n",
    "---"
   ]
  },
  {
   "cell_type": "markdown",
   "metadata": {},
   "source": [
    "## The negatives\n",
    "\n",
    "- **Where sum is zero :**\n",
    "\n",
    "| Step   | Equation             |\n",
    "| ------ | -------------------- |\n",
    "| $$1)$$ | $$1+(-1) = 0$$       |\n",
    "| $$2)$$ | $$(1/2)+(-1/2) = 0$$ |\n",
    "- **In the end**\n",
    "$$n + (-n) = 0$$\n",
    "\n",
    "- **The complement number on the clock is the inverse (negative)**\n",
    "\n",
    "| $$Number$$ | $$Inverse$$ |\n",
    "| ---------- | ----------- |\n",
    "| $$1$$      | $$11$$      |\n",
    "| $$2$$      | $$10$$      |\n",
    "| $$3$$      | $$9$$       |\n",
    "| $$4$$      | $$8$$       |\n",
    "| $$5$$      | $$7$$       |\n",
    "| $$6$$      | $$6$$       |\n",
    "\n",
    "**Ex.**\n",
    "$$3-11=3+(-11)=3+1=4$$\n",
    "\n",
    "---"
   ]
  },
  {
   "cell_type": "markdown",
   "metadata": {},
   "source": [
    "# Progress : A New Number System\n",
    "1. Finite Set\n",
    "2. Additional using modulus arithmetic\n",
    "3. The additive identity(zero element)\n",
    "4. The additive inverse(replacing negatives)\n",
    "\n",
    "- **Multiplication**\n",
    "\t- The case of 3\n",
    "\n",
    "| Seq        | Result |\n",
    "| ---------- | ------ |\n",
    "| $$3 *1 $$  | $$3$$  |\n",
    "| $$3 *2 $$  | $$6$$  |\n",
    "| $$3 *3 $$  | $$9$$  |\n",
    "| $$3 *4 $$  | $$0$$  |\n",
    "| $$3 *5 $$  | $$3$$  |\n",
    "| $$3 *6 $$  | $$6$$  |\n",
    "| $$3 *7 $$  | $$9$$  |\n",
    "| $$3 *8 $$  | $$0$$  |\n",
    "| $$3 *9 $$  | $$3$$  |\n",
    "| $$3 *10 $$ | $$6$$  |\n",
    "| $$3 *11 $$ | $$9$$  |\n",
    "| $$3 *12 $$ | $$0$$  |\n",
    "\n",
    " 1. <span style=\"color:rgb(255, 0, 0)\">You can't get to every number (in the set) from a multiple of 3</span>\n",
    " 2. <span style=\"color:rgb(255, 0, 0)\">Cyclic Result Duplicity Paradox</span>\n",
    " 3. <span style=\"color:rgb(255, 0, 0)\">Ridiculous Result Ex. 3 x 4 = 0 because both of it has real forwarding</span> \n",
    "\n",
    "    - The good case of 5\n",
    "\n",
    "| Seq      | Result |\n",
    "| -------- | ------ |\n",
    "| $$5*1$$  | $$5$$  |\n",
    "| $$5*2$$  | $$10$$ |\n",
    "| $$5*3$$  | $$3$$  |\n",
    "| $$5*4$$  | $$8$$  |\n",
    "| $$5*5$$  | $$1$$  |\n",
    "| $$5*6$$  | $$6$$  |\n",
    "| $$5*7$$  | $$11$$ |\n",
    "| $$5*8$$  | $$4$$  |\n",
    "| $$5*9$$  | $$9$$  |\n",
    "| $$5*10$$ | $$2$$  |\n",
    "| $$5*11$$ | $$7$$  |\n",
    "| $$5*12$$ | $$0$$  |\n",
    "1. <span style=\"color:rgb(0, 176, 80)\">You can get to every number from a multiple of 5</span>\n",
    "2. <span style=\"color:rgb(0, 176, 80)\">No cyclic result</span>\n",
    "3. <span style=\"color:rgb(0, 176, 80)\">Logical result</span>\n",
    "\n",
    "---\n",
    "\n",
    "## Conclusion\n",
    "- A particular number <span style=\"color:rgb(255, 192, 0)\">shares divisors</span> with the <span style=\"color:rgb(255, 192, 0)\">top number</span> that you're <span style=\"color:rgb(255, 192, 0)\">chosen</span> that is <span style=\"color:rgb(255, 192, 0)\">coming erratic behavior</span>.\n",
    "- Solve it by <span style=\"color:rgb(0, 176, 80)\">Just pick a prime number</span> \n",
    "\n",
    "---\n",
    "\n",
    "## Multiplication in Prime Field (p = 7)\n",
    "\n",
    "- <span style=\"color:rgb(0, 176, 240)\">Multiplicative Inverse</span>\n",
    "\n",
    "| Mul   | $$1$$                                             | $$2$$                                             | $$3$$                                             | $$4$$                                             | $$5$$                                             | $$6$$                                             |\n",
    "| ----- | ------------------------------------------------- | ------------------------------------------------- | ------------------------------------------------- | ------------------------------------------------- | ------------------------------------------------- | ------------------------------------------------- |\n",
    "| $$1$$ | <span style=\"color:rgb(0, 176, 240)\">$$1$$</span> | $$2$$                                             | $$3$$                                             | $$4$$                                             | $$5$$                                             | $$6$$                                             |\n",
    "| $$2$$ | $$2$$                                             | $$4$$                                             | $$6$$                                             | <span style=\"color:rgb(0, 176, 240)\">$$1$$</span> | $$3$$                                             | $$5$$                                             |\n",
    "| $$3$$ | $$3$$                                             | $$6$$                                             | $$2$$                                             | $$5$$                                             | <span style=\"color:rgb(0, 176, 240)\">$$1$$</span> | $$4$$                                             |\n",
    "| $$4$$ | $$4$$                                             | <span style=\"color:rgb(0, 176, 240)\">$$1$$</span> | $$5$$                                             | $$2$$                                             | $$6$$                                             | $$3$$                                             |\n",
    "| $$5$$ | $$5$$                                             | $$3$$                                             | <span style=\"color:rgb(0, 176, 240)\">$$1$$</span> | $$6$$                                             | $$4$$                                             | $$2$$                                             |\n",
    "| $$6$$ | $$6$$                                             | $$5$$                                             | $$4$$                                             | $$3$$                                             | $$2$$                                             | <span style=\"color:rgb(0, 176, 240)\">$$1$$</span> |\n",
    "\n",
    "---\n",
    "\n",
    "## Progress: The Prime Field\n",
    "\n",
    "1. Finite set\n",
    "2. <span style=\"color:rgb(255, 192, 0)\">Addition with modular arithmetic </span>\n",
    "3. <span style=\"color:rgb(255, 192, 0)\">The additive identity(zero element)</span>\n",
    "4. <span style=\"color:rgb(255, 192, 0)\">The additive inverse(replacing negatives)</span>\n",
    "5. <span style=\"color:rgb(0, 176, 240)\">Multiplication with modular arithmetic</span>\n",
    "6. <span style=\"color:rgb(0, 176, 240)\">The multiplication identity (the number)</span>\n",
    "7. <span style=\"color:rgb(0, 176, 240)\">The multiplicative inverse(replacing division)</span>\n",
    "8. <span style=\"color:rgb(0, 176, 80)\">Exponentiation is consecutive multiplication and is well-defined in a prime field</span>\n",
    "9. <span style=\"color:rgb(0, 176, 80)\">Define generators</span>\n",
    "\n",
    "- Exponential and Logarithm\n",
    "\t- Field Generator\n",
    "\n",
    "\n",
    "| Seq     | Result |\n",
    "| ------- | ------ |\n",
    "| $$3^1$$ | $$3$$  |\n",
    "| $$3^2$$ | $$2$$  |\n",
    "| $$3^3$$ | $$6$$  |\n",
    "| $$3^4$$ | $$4$$  |\n",
    "| $$3^5$$ | $$5$$  |\n",
    "| $$3^6$$ | $$1$$  |\n",
    "1. A member element whose power can reach every element in a finite field is called a <span style=\"color:rgb(255, 192, 0)\">generator (or primitive element)</span>\n",
    "2. From <span style=\"color:rgb(255, 0, 0)\">**Fermat's Little Theorem**</span>$$g^{p-1}=1 \\bmod p$$\n",
    "\n",
    "\n",
    "---\n",
    "\n",
    "# Fermat's Little Theorem Proof\n",
    "\n",
    "Fermat's Little Theorem states that for a prime ( p ) and an integer ( a ) not divisible by \n",
    "( p ), we have:\n",
    "\n",
    "$$\n",
    "a^{p-1} \\equiv 1 \\pmod{p}.\n",
    "$$\n",
    "## Proof Outline\n",
    "\n",
    "1. **Define the Sets \\( S \\) and \\( T \\):**\n",
    "   $$ \\text{Let }S = \\{1, 2, 3, \\dots, p-1\\} $$\n",
    "\t- which is the set of non-zero elements modulo ( p )\n",
    "    $$\\text{Let } T = a \\times S = \\{a \\cdot 1, a \\cdot 2, a \\cdot 3, \\dots, a \\cdot (p-1)\\} $$\n",
    "\t- where ( T ) is the set obtained by multiplying each element of ( S ) by ( a ) modulo ( p ).\n",
    "\n",
    "2. **Show ( T ) is a Permutation of ( S ):**\n",
    "   - Since \\( p \\) is prime and \\( a \\) is not divisible by \\( p \\), \\( a \\) has a multiplicative inverse modulo \\( p \\). This means that multiplication by \\( a \\) is a bijective operation in the set \\( S \\). Hence, each element $$a \\cdot k $$ (for \\( k in S )) is unique modulo \\( p \\), and \\( T \\) contains exactly the same elements as \\( S \\), just in a different order.\n",
    "   - Therefore,  $$S \\equiv T \\pmod{p}$$  as sets, implying that the elements of \\( S \\) and \\( T \\) are just rearrangements of each other.\n",
    "\n",
    "3. **Product Equality Modulo \\( p \\):**\n",
    "   - Since \\( T \\) is a permutation of \\( S \\), the product of all elements in \\( T \\) is congruent to the product of all elements in \\( S \\) modulo \\( p \\):\n",
    "     $$\n",
    "     (a \\cdot 1)(a \\cdot 2)(a \\cdot 3) \\cdots (a \\cdot (p-1)) \\equiv 1 \\cdot 2 \\cdot 3 \\cdots (p-1) \\pmod{p}.\n",
    "     $$\n",
    "   - Simplifying the left side, we get:\n",
    "     $$\n",
    "     a^{p-1} \\cdot (p-1)! \\equiv (p-1)! \\pmod{p}.\n",
    "     $$\n",
    "\n",
    "4. **Cancel \\( (p-1)! \\) from Both Sides:**\n",
    "   - Since \\( (p-1)! \\) is not divisible by \\( p \\) (because \\( p \\) is prime and none of the numbers \\( 1, 2, ..., p-1 \\) are divisible by \\( p \\)), \\( (p-1)! \\) has an inverse modulo( p ).\n",
    "   - Multiplying both sides by this inverse, we obtain:\n",
    "     $$\n",
    "     a^{p-1} \\equiv 1 \\pmod{p}.\n",
    "     $$\n",
    "\n",
    "## Conclusion\n",
    "Thus, we have proved that $$ a^{p-1} \\equiv 1 \\pmod{p} $$ for any integer ( a ) not divisible by ( p ), which is Fermat's Little Theorem.\n",
    "\n",
    "\n",
    "---"
   ]
  },
  {
   "cell_type": "markdown",
   "metadata": {},
   "source": []
  },
  {
   "cell_type": "code",
   "execution_count": 7,
   "metadata": {},
   "outputs": [
    {
     "name": "stdout",
     "output_type": "stream",
     "text": [
      "Requirement already satisfied: numpy in c:\\users\\pakawat\\appdata\\local\\programs\\python\\python313\\lib\\site-packages (2.1.3)\n"
     ]
    },
    {
     "name": "stderr",
     "output_type": "stream",
     "text": [
      "\n",
      "[notice] A new release of pip is available: 24.2 -> 24.3.1\n",
      "[notice] To update, run: python.exe -m pip install --upgrade pip\n"
     ]
    }
   ],
   "source": [
    "!pip3 install numpy"
   ]
  },
  {
   "cell_type": "code",
   "execution_count": 8,
   "metadata": {},
   "outputs": [
    {
     "name": "stdout",
     "output_type": "stream",
     "text": [
      "Requirement already satisfied: matplotlib in c:\\users\\pakawat\\appdata\\local\\programs\\python\\python313\\lib\\site-packages (3.9.2)\n",
      "Requirement already satisfied: contourpy>=1.0.1 in c:\\users\\pakawat\\appdata\\local\\programs\\python\\python313\\lib\\site-packages (from matplotlib) (1.3.0)\n",
      "Requirement already satisfied: cycler>=0.10 in c:\\users\\pakawat\\appdata\\local\\programs\\python\\python313\\lib\\site-packages (from matplotlib) (0.12.1)\n",
      "Requirement already satisfied: fonttools>=4.22.0 in c:\\users\\pakawat\\appdata\\local\\programs\\python\\python313\\lib\\site-packages (from matplotlib) (4.54.1)\n",
      "Requirement already satisfied: kiwisolver>=1.3.1 in c:\\users\\pakawat\\appdata\\local\\programs\\python\\python313\\lib\\site-packages (from matplotlib) (1.4.7)\n",
      "Requirement already satisfied: numpy>=1.23 in c:\\users\\pakawat\\appdata\\local\\programs\\python\\python313\\lib\\site-packages (from matplotlib) (2.1.3)\n",
      "Requirement already satisfied: packaging>=20.0 in c:\\users\\pakawat\\appdata\\roaming\\python\\python313\\site-packages (from matplotlib) (24.1)\n",
      "Requirement already satisfied: pillow>=8 in c:\\users\\pakawat\\appdata\\local\\programs\\python\\python313\\lib\\site-packages (from matplotlib) (11.0.0)\n",
      "Requirement already satisfied: pyparsing>=2.3.1 in c:\\users\\pakawat\\appdata\\local\\programs\\python\\python313\\lib\\site-packages (from matplotlib) (3.2.0)\n",
      "Requirement already satisfied: python-dateutil>=2.7 in c:\\users\\pakawat\\appdata\\roaming\\python\\python313\\site-packages (from matplotlib) (2.9.0.post0)\n",
      "Requirement already satisfied: six>=1.5 in c:\\users\\pakawat\\appdata\\roaming\\python\\python313\\site-packages (from python-dateutil>=2.7->matplotlib) (1.16.0)\n"
     ]
    },
    {
     "name": "stderr",
     "output_type": "stream",
     "text": [
      "\n",
      "[notice] A new release of pip is available: 24.2 -> 24.3.1\n",
      "[notice] To update, run: python.exe -m pip install --upgrade pip\n"
     ]
    }
   ],
   "source": [
    "!pip3 install matplotlib"
   ]
  },
  {
   "cell_type": "markdown",
   "metadata": {},
   "source": [
    "# Discrete Logarithm Problem\n",
    "\n",
    "In the equation $$a^x=b$$ when a and b are given, one can use <span style=\"color:rgb(255, 192, 0)\">trial and error</span> to find the value of <span style=\"color:rgb(255, 192, 0)\">x</span> "
   ]
  },
  {
   "cell_type": "code",
   "execution_count": 12,
   "metadata": {},
   "outputs": [
    {
     "data": {
      "image/png": "[encoded data removed]",
      "text/plain": [
       "<Figure size 640x480 with 1 Axes>"
      ]
     },
     "metadata": {},
     "output_type": "display_data"
    }
   ],
   "source": [
    "# Import necessary libraries\n",
    "import numpy as np\n",
    "import matplotlib.pyplot as plt\n",
    "\n",
    "# Create an array of x values\n",
    "x = np.linspace(0, 10, 10000)  # 100 points from -5 to 5\n",
    "\n",
    "# Calculate y values for the function 2^x\n",
    "y = 2 ** x\n",
    "\n",
    "# Create the plot\n",
    "plt.plot(x, y, color='blue')\n",
    "\n",
    "# Add labels and title\n",
    "plt.xlabel('x')\n",
    "plt.ylabel('2^x')\n",
    "plt.title('Plot of the function 2^x')\n",
    "\n",
    "# Add a grid for better readability\n",
    "plt.grid()\n",
    "\n",
    "# Show the plot\n",
    "plt.axhline(0, color='black', lw=0.5, ls='--')  # Add x-axis\n",
    "plt.axvline(0, color='black', lw=0.5, ls='--')  # Add y-axis\n",
    "plt.show()\n"
   ]
  },
  {
   "cell_type": "markdown",
   "metadata": {},
   "source": [
    "To solve the <span style=\"color:rgb(255, 192, 0)\">discrete logarithm problem</span>, where you need to find <span style=\"color:rgb(255, 192, 0)\">x</span> such that $$a^x ≡b \\bmod p$$\n",
    "<span style=\"color:rgb(255, 192, 0)\">very much brute force</span> \n"
   ]
  },
  {
   "cell_type": "code",
   "execution_count": 13,
   "metadata": {},
   "outputs": [
    {
     "data": {
      "image/png": "[encoded data removed]",
      "text/plain": [
       "<Figure size 640x480 with 1 Axes>"
      ]
     },
     "metadata": {},
     "output_type": "display_data"
    }
   ],
   "source": [
    "# Import necessary libraries\n",
    "import numpy as np\n",
    "import matplotlib.pyplot as plt\n",
    "\n",
    "# Define the modulus\n",
    "modulus = 97\n",
    "\n",
    "# Create an array of x values\n",
    "x = np.arange(0, 97)  # x values from 0 to 96\n",
    "\n",
    "# Calculate y values for the function 2^x mod 97\n",
    "y = (2 ** x) % modulus\n",
    "\n",
    "# Create the scatter plot\n",
    "plt.scatter(x, y, color='blue', marker='o')\n",
    "\n",
    "# Add labels and title\n",
    "plt.xlabel('x')\n",
    "plt.ylabel('2^x mod 97')\n",
    "plt.title('Scatter Plot of 2^x mod 97')\n",
    "\n",
    "# Add a grid for better readability\n",
    "plt.grid()\n",
    "\n",
    "# Show the plot\n",
    "plt.axhline(0, color='black', lw=0.5, ls='--')  # Add x-axis\n",
    "plt.axvline(0, color='black', lw=0.5, ls='--')  # Add y-axis\n",
    "plt.show()\n"
   ]
  },
  {
   "cell_type": "markdown",
   "metadata": {},
   "source": [
    "$$\\therefore \\text{The number of operations performed was concealed.}$$\n",
    "\n",
    "---"
   ]
  },
  {
   "cell_type": "markdown",
   "metadata": {},
   "source": [
    "# For this reason, ZK is a Prime Finite Field\n",
    "\n",
    "$$Z/pZ$$"
   ]
  }
 ],
 "metadata": {
  "kernelspec": {
   "display_name": "Python 3",
   "language": "python",
   "name": "python3"
  },
  "language_info": {
   "codemirror_mode": {
    "name": "ipython",
    "version": 3
   },
   "file_extension": ".py",
   "mimetype": "text/x-python",
   "name": "python",
   "nbconvert_exporter": "python",
   "pygments_lexer": "ipython3",
   "version": "3.13.0"
  }
 },
 "nbformat": 4,
 "nbformat_minor": 2
}
